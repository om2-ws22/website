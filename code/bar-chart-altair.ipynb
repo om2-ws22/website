{
 "cells": [
  {
   "cell_type": "markdown",
   "metadata": {
    "slideshow": {
     "slide_type": "slide"
    }
   },
   "source": [
    "# Bar chart"
   ]
  },
  {
   "cell_type": "markdown",
   "metadata": {
    "slideshow": {
     "slide_type": "fragment"
    }
   },
   "source": [
    "## Setup"
   ]
  },
  {
   "cell_type": "markdown",
   "metadata": {
    "slideshow": {
     "slide_type": "fragment"
    }
   },
   "source": [
    "- We disable Altair's data restrictions to be able to plot Dataframes with more than 5000 rows: `alt.data_transformers.disable_max_rows()`"
   ]
  },
  {
   "cell_type": "code",
   "execution_count": null,
   "metadata": {
    "slideshow": {
     "slide_type": "subslide"
    }
   },
   "outputs": [],
   "source": [
    "import pandas as pd\n",
    "import altair as alt\n",
    "\n",
    "alt.data_transformers.disable_max_rows()"
   ]
  },
  {
   "cell_type": "markdown",
   "metadata": {
    "slideshow": {
     "slide_type": "fragment"
    }
   },
   "source": [
    "We also want to ignore a specific warning:"
   ]
  },
  {
   "cell_type": "code",
   "execution_count": null,
   "metadata": {
    "slideshow": {
     "slide_type": "fragment"
    }
   },
   "outputs": [],
   "source": [
    "import warnings\n",
    "warnings.simplefilter(action='ignore', category=FutureWarning)"
   ]
  },
  {
   "cell_type": "markdown",
   "metadata": {
    "slideshow": {
     "slide_type": "slide"
    }
   },
   "source": [
    "## Data"
   ]
  },
  {
   "cell_type": "markdown",
   "metadata": {
    "slideshow": {
     "slide_type": "fragment"
    }
   },
   "source": [
    "### Import data"
   ]
  },
  {
   "cell_type": "code",
   "execution_count": null,
   "metadata": {
    "slideshow": {
     "slide_type": "subslide"
    }
   },
   "outputs": [],
   "source": [
    "ROOT = \"https://raw.githubusercontent.com/kirenz/datasets/master/\"\n",
    "DATA = \"loans.csv\"\n",
    "\n",
    "df = pd.read_csv(ROOT + DATA)"
   ]
  },
  {
   "cell_type": "markdown",
   "metadata": {
    "slideshow": {
     "slide_type": "slide"
    }
   },
   "source": [
    "### Data structure"
   ]
  },
  {
   "cell_type": "markdown",
   "metadata": {
    "slideshow": {
     "slide_type": "fragment"
    }
   },
   "source": [
    "Display the dataframe with `df`"
   ]
  },
  {
   "cell_type": "code",
   "execution_count": null,
   "metadata": {
    "slideshow": {
     "slide_type": "subslide"
    }
   },
   "outputs": [],
   "source": [
    "df"
   ]
  },
  {
   "cell_type": "markdown",
   "metadata": {
    "slideshow": {
     "slide_type": "slide"
    }
   },
   "source": [
    "Show info"
   ]
  },
  {
   "cell_type": "code",
   "execution_count": null,
   "metadata": {
    "slideshow": {
     "slide_type": "fragment"
    }
   },
   "outputs": [],
   "source": [
    "df.info()"
   ]
  },
  {
   "cell_type": "markdown",
   "metadata": {
    "slideshow": {
     "slide_type": "slide"
    }
   },
   "source": [
    "### Data corrections"
   ]
  },
  {
   "cell_type": "markdown",
   "metadata": {
    "slideshow": {
     "slide_type": "fragment"
    }
   },
   "source": [
    "Change the data format from object to category for the variables `homeownership` and `application_type` with `.astype(\"category\")`"
   ]
  },
  {
   "cell_type": "code",
   "execution_count": null,
   "metadata": {
    "slideshow": {
     "slide_type": "fragment"
    }
   },
   "outputs": [],
   "source": [
    "# Change data format from object to category\n",
    "df['homeownership'] = df['homeownership'].astype(\"category\")\n",
    "df['application_type'] = df['application_type'].astype(\"category\")"
   ]
  },
  {
   "cell_type": "markdown",
   "metadata": {
    "slideshow": {
     "slide_type": "slide"
    }
   },
   "source": [
    "### Variable lists"
   ]
  },
  {
   "cell_type": "markdown",
   "metadata": {
    "slideshow": {
     "slide_type": "fragment"
    }
   },
   "source": [
    "Next, we select the relevant variables we want to use (this will ease the plotting process).\n",
    "\n",
    "We only use the variable `homeownership`"
   ]
  },
  {
   "cell_type": "code",
   "execution_count": null,
   "metadata": {
    "slideshow": {
     "slide_type": "subslide"
    }
   },
   "outputs": [],
   "source": [
    "# make a list of variables you want to use\n",
    "var_list = ['homeownership']\n",
    "\n",
    "# create a new dataframe called source with only var_list\n",
    "source = df[var_list]"
   ]
  },
  {
   "cell_type": "markdown",
   "metadata": {
    "slideshow": {
     "slide_type": "slide"
    }
   },
   "source": [
    "## Analysis"
   ]
  },
  {
   "cell_type": "markdown",
   "metadata": {
    "slideshow": {
     "slide_type": "fragment"
    }
   },
   "source": [
    "We start our analysis with Altair, a declarative statistical visualization library for Python, based on Vega and Vega-Lite.\n",
    "\n",
    "Altair charts work out-of-the-box on Jupyter Notebook, so long as there is a **web connection** to load the required javascript libraries."
   ]
  },
  {
   "cell_type": "markdown",
   "metadata": {
    "slideshow": {
     "slide_type": "fragment"
    }
   },
   "source": [
    "Here is an example of using the Altair API (foo is a placeholder):\n",
    "\n",
    "\n",
    "**a**lt.**C**hart().**m**ark_foo().**e**ncode() \n",
    "\n",
    "\n",
    "*You can remember the order of code blocks with the acronym \"**a.C.m.e**\"*"
   ]
  },
  {
   "cell_type": "markdown",
   "metadata": {
    "slideshow": {
     "slide_type": "fragment"
    }
   },
   "source": [
    "```python\n",
    "alt.Chart(DATAFRAME).mark_PLOT().encode(\n",
    "    x=alt.X('VARIABLE'),\n",
    "    y=alt.Y('VARIABLE')\n",
    ")\n",
    "\n",
    "```\n",
    "\n",
    "replace\n",
    "\n",
    "- DATAFRAME with your data (e.g., `source` or `df`)\n",
    "- PLOT with the plot type of your choice (e.g., `bar` or `circle`)\n",
    "- VARIABLE with the varible name you want to plot"
   ]
  },
  {
   "cell_type": "markdown",
   "metadata": {
    "slideshow": {
     "slide_type": "slide"
    }
   },
   "source": [
    "### Standard bar chart"
   ]
  },
  {
   "cell_type": "code",
   "execution_count": null,
   "metadata": {
    "scrolled": true,
    "slideshow": {
     "slide_type": "subslide"
    }
   },
   "outputs": [],
   "source": [
    "alt.Chart(source).mark_bar().encode(\n",
    "    x=alt.X('homeownership'),\n",
    "    y=alt.Y('count(homeownership)')\n",
    ")"
   ]
  },
  {
   "cell_type": "markdown",
   "metadata": {
    "slideshow": {
     "slide_type": "slide"
    }
   },
   "source": [
    "### Sorted bar chart"
   ]
  },
  {
   "cell_type": "code",
   "execution_count": null,
   "metadata": {
    "slideshow": {
     "slide_type": "subslide"
    }
   },
   "outputs": [],
   "source": [
    "alt.Chart(source).mark_bar().encode(\n",
    "    x=alt.X('homeownership', \n",
    "           sort='-y'), # sort\n",
    "    y=alt.Y('count(homeownership)')\n",
    ")"
   ]
  },
  {
   "cell_type": "markdown",
   "metadata": {
    "slideshow": {
     "slide_type": "slide"
    }
   },
   "source": [
    "### Bar chart with properties"
   ]
  },
  {
   "cell_type": "code",
   "execution_count": null,
   "metadata": {
    "slideshow": {
     "slide_type": "subslide"
    }
   },
   "outputs": [],
   "source": [
    "alt.Chart(source).mark_bar().encode(\n",
    "    x=alt.X('homeownership',\n",
    "           sort='-y'),\n",
    "    y=alt.Y('count(homeownership)')\n",
    ").properties( # properties\n",
    "    title='This is a simple bar chart',\n",
    "    width=300,\n",
    "    height=150\n",
    ")"
   ]
  },
  {
   "cell_type": "markdown",
   "metadata": {
    "slideshow": {
     "slide_type": "slide"
    }
   },
   "source": [
    "### Bar chart with custom axes"
   ]
  },
  {
   "cell_type": "code",
   "execution_count": null,
   "metadata": {
    "slideshow": {
     "slide_type": "subslide"
    }
   },
   "outputs": [],
   "source": [
    "alt.Chart(source).mark_bar().encode(\n",
    "    x=alt.X('homeownership', \n",
    "            sort='-y',\n",
    "            axis=alt.Axis(title=\"Homeownership\", # title of x axis\n",
    "                          labelAngle=0, # angle of x axis text\n",
    "                          titleAnchor=\"start\")), # adjustment of text\n",
    "    y=alt.Y('count(homeownership)',              \n",
    "            axis=alt.Axis(title = \"Count\",\n",
    "                          titleAnchor=\"end\"))\n",
    ").properties(\n",
    "    title='This is a bar chart with custom axes',\n",
    "    width=300,\n",
    "    height=150\n",
    ")"
   ]
  },
  {
   "cell_type": "markdown",
   "metadata": {
    "slideshow": {
     "slide_type": "slide"
    }
   },
   "source": [
    "### Bar chart with custom axes and title"
   ]
  },
  {
   "cell_type": "code",
   "execution_count": null,
   "metadata": {
    "slideshow": {
     "slide_type": "subslide"
    }
   },
   "outputs": [],
   "source": [
    "alt.Chart(source).mark_bar().encode(\n",
    "    x=alt.X('homeownership',\n",
    "            sort='-y',\n",
    "            axis=alt.Axis(title=\"Homeownership\", \n",
    "                          labelAngle=0,\n",
    "                          titleAnchor=\"start\")),\n",
    "    y=alt.Y('count(homeownership)', \n",
    "            axis=alt.Axis(title = \"Count\",\n",
    "                          titleAnchor=\"end\"))\n",
    ").properties(\n",
    "    title='This is a bar chart with custom axes and title',\n",
    "    width=300,\n",
    "    height=150\n",
    ").configure_title( # custom title\n",
    "    fontSize=16,\n",
    "    font='Arial',\n",
    "    color='black',\n",
    "    anchor='start'\n",
    ")"
   ]
  }
 ],
 "metadata": {
  "celltoolbar": "Slideshow",
  "kernelspec": {
   "display_name": "Python 3 (ipykernel)",
   "language": "python",
   "name": "python3"
  },
  "language_info": {
   "codemirror_mode": {
    "name": "ipython",
    "version": 3
   },
   "file_extension": ".py",
   "mimetype": "text/x-python",
   "name": "python",
   "nbconvert_exporter": "python",
   "pygments_lexer": "ipython3",
   "version": "3.9.13"
  },
  "varInspector": {
   "cols": {
    "lenName": 16,
    "lenType": 16,
    "lenVar": 40
   },
   "kernels_config": {
    "python": {
     "delete_cmd_postfix": "",
     "delete_cmd_prefix": "del ",
     "library": "var_list.py",
     "varRefreshCmd": "print(var_dic_list())"
    },
    "r": {
     "delete_cmd_postfix": ") ",
     "delete_cmd_prefix": "rm(",
     "library": "var_list.r",
     "varRefreshCmd": "cat(var_dic_list()) "
    }
   },
   "types_to_exclude": [
    "module",
    "function",
    "builtin_function_or_method",
    "instance",
    "_Feature"
   ],
   "window_display": false
  },
  "vscode": {
   "interpreter": {
    "hash": "57137d00906dcfc610b0009cd9be1d97c3b9b0b8cb7228e2ff7c7001d05affbc"
   }
  }
 },
 "nbformat": 4,
 "nbformat_minor": 2
}
